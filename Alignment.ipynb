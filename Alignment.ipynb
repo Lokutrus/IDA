{
 "cells": [
  {
   "cell_type": "code",
   "execution_count": 50,
   "metadata": {
    "collapsed": false
   },
   "outputs": [
    {
     "name": "stdout",
     "output_type": "stream",
     "text": [
      "Loading PDB file 1JOY.pdb\n",
      "<Model id=0>\n",
      "Everything aligned to first model...\n",
      "RMS(first model, model 0) = 0.00\n",
      "RMS(first model, model 1) = 1.37\n",
      "RMS(first model, model 2) = 1.09\n",
      "RMS(first model, model 3) = 1.15\n",
      "RMS(first model, model 4) = 1.42\n",
      "RMS(first model, model 5) = 1.29\n",
      "RMS(first model, model 6) = 1.12\n",
      "RMS(first model, model 7) = 1.10\n",
      "RMS(first model, model 8) = 1.10\n",
      "RMS(first model, model 9) = 1.50\n",
      "RMS(first model, model 10) = 0.98\n",
      "RMS(first model, model 11) = 1.05\n",
      "RMS(first model, model 12) = 0.83\n",
      "RMS(first model, model 13) = 1.42\n",
      "RMS(first model, model 14) = 1.14\n",
      "RMS(first model, model 15) = 1.21\n",
      "RMS(first model, model 16) = 1.28\n",
      "RMS(first model, model 17) = 1.10\n",
      "RMS(first model, model 18) = 1.10\n",
      "RMS(first model, model 19) = 1.50\n",
      "RMS(first model, model 20) = 0.98\n"
     ]
    }
   ],
   "source": [
    "import Bio.PDB\n",
    "#import Bio.SVDSuperimposer\n",
    "\n",
    "#import Bio.PDB.PDBParser\n",
    "#import Bio.PDB.Polypeptide\n",
    "import numpy\n",
    "\n",
    "pdb_code = \"1JOY\"\n",
    "pdb_filename = \"%s.pdb\" % pdb_code\n",
    "pdb_out_filename = \"%s_aligned.pdb\" % pdb_code\n",
    "\n",
    "seq_str = 'MAAGVKQLADDRTLLMAGVSHDLRTPLTRIRLATEMMSEQDGYLAESINKDIEECNAIIEQFIDYLR'\n",
    "use_str = '-----------RTLLMAGVSHDLRTPLTRIRLATEMMSEQDGYLAESINKDI---------------'\n",
    "use = [(letter != \"-\") for letter in use_str]\n",
    "assert len(use) == len(seq_str)\n",
    "\n",
    "\n",
    "print (\"Loading PDB file %s\" % pdb_filename)\n",
    "structure = Bio.PDB.PDBParser().get_structure(pdb_code, pdb_filename)\n",
    "\n",
    "print(structure[0])\n",
    "\n",
    "print (\"Everything aligned to first model...\")\n",
    "ref_model = structure[0]\n",
    "\n",
    "for alt_model in structure :\n",
    "    #Build paired lists of c-alpha atoms, ref_atoms and alt_atoms\n",
    "    ref_atoms = []\n",
    "    alt_atoms = []\n",
    "    for (ref_chain, alt_chain) in zip(ref_model, alt_model) :\n",
    "        for ref_res, alt_res, amino, allow in zip(ref_chain, alt_chain, seq_str, use) :\n",
    "            assert ref_res.resname == alt_res.resname\n",
    "            assert ref_res.id      == alt_res.id\n",
    "            assert amino == Bio.PDB.Polypeptide.three_to_one(ref_res.resname)\n",
    "            if allow :\n",
    "                #CA = alpha carbon\n",
    "                ref_atoms.append(ref_res['CA'])                \n",
    "                alt_atoms.append(alt_res['CA'])\n",
    "                \n",
    "    #Align these paired atom lists:\n",
    "    super_imposer = Bio.PDB.Superimposer()\n",
    "    super_imposer.set_atoms(ref_atoms, alt_atoms)\n",
    "    \n",
    "    #sup = Superimposer()\n",
    "    #sup.set(ref_atoms, alt_atoms)\n",
    "    \n",
    "    #Print RMSD for pair of structures before alignment\n",
    "    #print (\"RMS(first model, model %i) = %0.2f\" % (alt_model.id, sup.rms))\n",
    "    \n",
    "    if ref_model.id == alt_model.id :\n",
    "        #Check for self/self get zero RMS, zero translation\n",
    "        #and identity matrix for the rotation.\n",
    "        assert numpy.abs(super_imposer.rms) < 0.0000001\n",
    "        assert numpy.max(numpy.abs(super_imposer.rotran[1])) < 0.000001\n",
    "        assert numpy.max(numpy.abs(super_imposer.rotran[0]) - numpy.identity(3)) < 0.000001\n",
    "    else :\n",
    "        #Update the structure by moving all the atoms in\n",
    "        #this model (not just the ones used for the alignment)\n",
    "        super_imposer.apply(alt_model.get_atoms())\n",
    "    #Print RMSD for pair of structures after alignment\n",
    "    print (\"RMS(first model, model %i) = %0.2f\" % (alt_model.id, super_imposer.rms))\n",
    "    \n",
    "io=Bio.PDB.PDBIO()\n",
    "io.set_structure(structure)\n",
    "io.save(pdb_out_filename)"
   ]
  },
  {
   "cell_type": "code",
   "execution_count": 41,
   "metadata": {
    "collapsed": false
   },
   "outputs": [
    {
     "name": "stdout",
     "output_type": "stream",
     "text": [
      "Loading PDB file 1JOY.pdb\n",
      "<Model id=0>\n",
      "Everything aligned to first model...\n",
      "RMS(first model, model 0) = 0.00\n",
      "RMS(first model, model 0) = 0.00\n",
      "RMS(first model, model 1) = 1.37\n",
      "RMS(first model, model 1) = 1.37\n",
      "RMS(first model, model 2) = 1.09\n",
      "RMS(first model, model 2) = 1.09\n",
      "RMS(first model, model 3) = 1.15\n",
      "RMS(first model, model 3) = 1.15\n",
      "RMS(first model, model 4) = 1.42\n",
      "RMS(first model, model 4) = 1.42\n",
      "RMS(first model, model 5) = 1.29\n",
      "RMS(first model, model 5) = 1.29\n",
      "RMS(first model, model 6) = 1.12\n",
      "RMS(first model, model 6) = 1.12\n",
      "RMS(first model, model 7) = 1.10\n",
      "RMS(first model, model 7) = 1.10\n",
      "RMS(first model, model 8) = 1.10\n",
      "RMS(first model, model 8) = 1.10\n",
      "RMS(first model, model 9) = 1.50\n",
      "RMS(first model, model 9) = 1.50\n",
      "RMS(first model, model 10) = 0.98\n",
      "RMS(first model, model 10) = 0.98\n",
      "RMS(first model, model 11) = 1.05\n",
      "RMS(first model, model 11) = 1.05\n",
      "RMS(first model, model 12) = 0.83\n",
      "RMS(first model, model 12) = 0.83\n",
      "RMS(first model, model 13) = 1.42\n",
      "RMS(first model, model 13) = 1.42\n",
      "RMS(first model, model 14) = 1.14\n",
      "RMS(first model, model 14) = 1.14\n",
      "RMS(first model, model 15) = 1.21\n",
      "RMS(first model, model 15) = 1.21\n",
      "RMS(first model, model 16) = 1.28\n",
      "RMS(first model, model 16) = 1.28\n",
      "RMS(first model, model 17) = 1.10\n",
      "RMS(first model, model 17) = 1.10\n",
      "RMS(first model, model 18) = 1.10\n",
      "RMS(first model, model 18) = 1.10\n",
      "RMS(first model, model 19) = 1.50\n",
      "RMS(first model, model 19) = 1.50\n",
      "RMS(first model, model 20) = 0.98\n",
      "RMS(first model, model 20) = 0.98\n"
     ]
    }
   ],
   "source": []
  },
  {
   "cell_type": "code",
   "execution_count": 49,
   "metadata": {
    "collapsed": true
   },
   "outputs": [],
   "source": []
  },
  {
   "cell_type": "code",
   "execution_count": null,
   "metadata": {
    "collapsed": true
   },
   "outputs": [],
   "source": []
  }
 ],
 "metadata": {
  "kernelspec": {
   "display_name": "Python 3",
   "language": "python",
   "name": "python3"
  },
  "language_info": {
   "codemirror_mode": {
    "name": "ipython",
    "version": 3
   },
   "file_extension": ".py",
   "mimetype": "text/x-python",
   "name": "python",
   "nbconvert_exporter": "python",
   "pygments_lexer": "ipython3",
   "version": "3.6.0"
  }
 },
 "nbformat": 4,
 "nbformat_minor": 2
}
