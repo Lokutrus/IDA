{
 "cells": [
  {
   "cell_type": "code",
   "execution_count": 31,
   "metadata": {
    "collapsed": false
   },
   "outputs": [
    {
     "name": "stdout",
     "output_type": "stream",
     "text": [
      "Loading PDB file 1JOY.pdb\n"
     ]
    }
   ],
   "source": [
    "#import Bio.PDB\n",
    "#import Bio.SVDSuperimposer\n",
    "#Я хотел переписать это через тот набор функций bio, который позволил бы мне посчитать RMS до преобразования.\n",
    "#Там есть соответствующий пакет, именуемый Bio.SVDSuperimposer\n",
    "#http://biopython.org/DIST/docs/api/Bio.SVDSuperimposer-module.html\n",
    "import Bio.PDB.PDBParser\n",
    "import Bio.SVDSuperimposer\n",
    "#import Bio.PDB.Polypeptide\n",
    "import numpy as np\n",
    "\n",
    "pdb_code = \"1JOY\"\n",
    "pdb_filename = \"%s.pdb\" % pdb_code\n",
    "pdb_out_filename = \"%s_aligned.pdb\" % pdb_code\n",
    "\n",
    "#Пока оставил, вообще говоря можно убрать (и вообще сократить код раза в три-четыре) \n",
    "#и идти тупо по всем атомам. Вообще по всем.\n",
    "#seq_str = 'MAAGVKQLADDRTLLMAGVSHDLRTPLTRIRLATEMMSEQDGYLAESINKDIEECNAIIEQFIDYLR'\n",
    "#use_str = 'MA---------RTLLMAGVSHDLRTPLTRIRLATEMMSEQDGYLAESINKDI---------------'\n",
    "#Генерируем массив с единицами для совпадающих остатков\n",
    "#use = [(letter != \"-\") for letter in use_str]\n",
    "#assert len(use) == len(seq_str)\n",
    "\n",
    "\n",
    "print (\"Loading PDB file %s\" % pdb_filename)\n",
    "structure = Bio.PDB.PDBParser().get_structure(pdb_code, pdb_filename)\n",
    "\n",
    "#print(structure[0])"
   ]
  },
  {
   "cell_type": "code",
   "execution_count": 32,
   "metadata": {
    "collapsed": true
   },
   "outputs": [],
   "source": [
    "#Выведем RMSD по всем парам до выравнивания\n",
    "#(Объяснение работы этого участка - ниже)\n",
    "RMSD_start = 0.0;\n",
    "for ref_model in structure :\n",
    "    for alt_model in structure :\n",
    "        ref_atoms = []\n",
    "        alt_atoms = []\n",
    "        for (ref_chain, alt_chain) in zip(ref_model, alt_model) :\n",
    "            for ref_res, alt_res in zip(ref_chain, alt_chain) :\n",
    "                assert ref_res.resname == alt_res.resname\n",
    "                assert ref_res.id      == alt_res.id\n",
    "                ref_atoms.append(ref_res['CA'].get_coord())\n",
    "                alt_atoms.append(alt_res['CA'].get_coord())\n",
    "        sup = Bio.SVDSuperimposer.SVDSuperimposer()\n",
    "        ref_atoms = np.asarray(ref_atoms)\n",
    "        alt_atoms = np.asarray(alt_atoms)\n",
    "        #sup.set(ref_atoms, alt_atoms)\n",
    "        RMSD_start += sup._rms(ref_atoms, alt_atoms)"
   ]
  },
  {
   "cell_type": "code",
   "execution_count": 33,
   "metadata": {
    "collapsed": false
   },
   "outputs": [
    {
     "name": "stdout",
     "output_type": "stream",
     "text": [
      "Everything aligned to first model...\n",
      "model 1/model 1\n",
      "RMS(bef) = 0.00\n",
      "RMS(aft) = 0.00\n",
      "[[  1.00000000e+00   0.00000000e+00  -2.04890966e-08]\n",
      " [  0.00000000e+00   1.00000000e+00   7.45058060e-09]\n",
      " [ -2.04890966e-08   7.45058060e-09   1.00000000e+00]] [ 0.  0.  0.]\n",
      "model 1/model 2\n",
      "RMS(bef) = 30.25\n",
      "RMS(aft) = 2.03\n",
      "[[-0.07667555 -0.80727816  0.58516908]\n",
      " [ 0.52585942  0.46589079  0.71163028]\n",
      " [-0.84710848  0.36228132  0.38879243]] [-16.72921181  -3.59168434  -5.46626949]\n",
      "model 1/model 3\n",
      "RMS(bef) = 23.08\n",
      "RMS(aft) = 2.86\n",
      "[[-0.41386262  0.51690161 -0.74935341]\n",
      " [-0.58216071 -0.78311747 -0.21866867]\n",
      " [-0.69986188  0.34574533  0.62502277]] [  6.55145645  10.84421539   8.77009678]\n",
      "model 1/model 4\n",
      "RMS(bef) = 40.62\n",
      "RMS(aft) = 3.45\n",
      "[[-0.08711918 -0.14012474 -0.98629367]\n",
      " [-0.20195454  0.97198433 -0.12025315]\n",
      " [ 0.97551244  0.18871009 -0.11297731]] [ 5.54795074  7.81967545 -4.35967541]\n",
      "model 1/model 5\n",
      "RMS(bef) = 52.38\n",
      "RMS(aft) = 2.08\n",
      "[[-0.67803943 -0.46776831 -0.56697017]\n",
      " [-0.66382056  0.05849731  0.7456007 ]\n",
      " [-0.31560212  0.88191313 -0.35017771]] [ 21.05697632  20.15657997  15.06002712]\n",
      "model 1/model 6\n",
      "RMS(bef) = 43.44\n",
      "RMS(aft) = 1.92\n",
      "[[-0.97406507 -0.08762854  0.20861091]\n",
      " [ 0.19958238 -0.7671116   0.60967749]\n",
      " [ 0.10660264  0.63550067  0.76470566]] [ 5.34799576  3.42693996  9.81457996]\n",
      "model 1/model 7\n",
      "RMS(bef) = 19.97\n",
      "RMS(aft) = 2.91\n",
      "[[ 0.47600883  0.30425379 -0.82513344]\n",
      " [-0.47249821  0.87980592  0.05183523]\n",
      " [ 0.74172843  0.36520007  0.56255472]] [-2.26966286 -3.37879276 -7.1011858 ]\n",
      "model 1/model 8\n",
      "RMS(bef) = 25.58\n",
      "RMS(aft) = 2.10\n",
      "[[-0.04718579  0.54337323 -0.83816403]\n",
      " [-0.75555599  0.52944851  0.38577133]\n",
      " [ 0.65338254  0.65148276  0.38556644]] [-5.63138676 -2.57477093 -6.38288784]\n",
      "model 1/model 9\n",
      "RMS(bef) = 51.21\n",
      "RMS(aft) = 2.77\n",
      "[[-0.78318352 -0.35885945 -0.50778288]\n",
      " [ 0.5988273  -0.65519834 -0.46056604]\n",
      " [-0.16742006 -0.66478193  0.72803539]] [  1.7896595  -21.1409111   -1.83954716]\n",
      "model 1/model 10\n",
      "RMS(bef) = 39.35\n",
      "RMS(aft) = 2.58\n",
      "[[-0.82925397 -0.47219616  0.29894608]\n",
      " [ 0.51490366 -0.4375549   0.73717022]\n",
      " [-0.21728359  0.7652297   0.60597968]] [ -4.76212692  15.14614582  -9.22555256]\n",
      "model 1/model 11\n",
      "RMS(bef) = 43.76\n",
      "RMS(aft) = 2.89\n",
      "[[-0.19460146 -0.60900509  0.76892328]\n",
      " [-0.12884068  0.79298818  0.59545761]\n",
      " [-0.97238386  0.01680836 -0.23278129]] [-12.42133808  23.10110092   5.40557575]\n",
      "model 1/model 12\n",
      "RMS(bef) = 51.32\n",
      "RMS(aft) = 3.43\n",
      "[[-0.54875141 -0.34362382  0.76209879]\n",
      " [ 0.32644644 -0.92731935 -0.18306161]\n",
      " [ 0.76961327  0.14832911  0.62104261]] [ 9.40685654  9.30839157  5.0456953 ]\n",
      "model 1/model 13\n",
      "RMS(bef) = 40.64\n",
      "RMS(aft) = 1.96\n",
      "[[-0.14220205  0.90103775  0.40976781]\n",
      " [ 0.79932499  0.34870327 -0.48937261]\n",
      " [-0.58383054  0.25794789 -0.76980829]] [-16.03841972 -13.44329357  16.63393974]\n",
      "model 1/model 14\n",
      "RMS(bef) = 47.84\n",
      "RMS(aft) = 2.72\n",
      "[[-0.8074109   0.0577407  -0.58715719]\n",
      " [-0.26083088  0.85772884  0.44302201]\n",
      " [ 0.52920204  0.51084954 -0.67747909]] [-13.18196583  23.5899086   -5.70274639]\n",
      "model 1/model 15\n",
      "RMS(bef) = 43.45\n",
      "RMS(aft) = 2.09\n",
      "[[-0.83089411 -0.37418133  0.41182914]\n",
      " [-0.45481712  0.88309491 -0.1152597 ]\n",
      " [-0.32055622 -0.2830756  -0.90394247]] [ 12.48774719   5.97032833  18.05247116]\n",
      "model 1/model 16\n",
      "RMS(bef) = 43.71\n",
      "RMS(aft) = 4.94\n",
      "[[ 0.62449825 -0.30191654 -0.72031128]\n",
      " [ 0.74773455 -0.03527707  0.66306001]\n",
      " [-0.22559926 -0.95268142  0.20372298]] [-42.43777466  40.29961777  -6.00192165]\n",
      "model 1/model 17\n",
      "RMS(bef) = 29.29\n",
      "RMS(aft) = 4.10\n",
      "[[-0.33875307 -0.65431404  0.6761061 ]\n",
      " [ 0.9036454  -0.42639995  0.04010198]\n",
      " [ 0.26205239  0.62454486  0.73571211]] [-22.70128822   6.43154716  12.81235123]\n",
      "model 1/model 18\n",
      "RMS(bef) = 25.58\n",
      "RMS(aft) = 2.10\n",
      "[[-0.04718579  0.54337323 -0.83816403]\n",
      " [-0.75555599  0.52944851  0.38577133]\n",
      " [ 0.65338254  0.65148276  0.38556644]] [-5.63138676 -2.57477093 -6.38288784]\n",
      "model 1/model 19\n",
      "RMS(bef) = 51.21\n",
      "RMS(aft) = 2.77\n",
      "[[-0.78318352 -0.35885945 -0.50778288]\n",
      " [ 0.5988273  -0.65519834 -0.46056604]\n",
      " [-0.16742006 -0.66478193  0.72803539]] [  1.7896595  -21.1409111   -1.83954716]\n",
      "model 1/model 20\n",
      "RMS(bef) = 39.35\n",
      "RMS(aft) = 2.58\n",
      "[[-0.82925397 -0.47219616  0.29894608]\n",
      " [ 0.51490366 -0.4375549   0.73717022]\n",
      " [-0.21728359  0.7652297   0.60597968]] [ -4.76212692  15.14614582  -9.22555256]\n",
      "model 1/model 21\n",
      "RMS(bef) = 43.76\n",
      "RMS(aft) = 2.89\n",
      "[[-0.19460146 -0.60900509  0.76892328]\n",
      " [-0.12884068  0.79298818  0.59545761]\n",
      " [-0.97238386  0.01680836 -0.23278129]] [-12.42133808  23.10110092   5.40557575]\n"
     ]
    }
   ],
   "source": [
    "print (\"Everything aligned to first model...\")\n",
    "#Мы реализуем попарное сравнение, так что просто сравниваем все структуры с первой, выбранной статичной.\n",
    "ref_model = structure[0]\n",
    "#Идем по всем структурам:\n",
    "for alt_model in structure :\n",
    "    #Мы сравниваем не со всеми атомами, а с атомами альфа-углерода (?) в аминокислотах. 'CA' указывает на этот атом в\n",
    "    #перебираемых аминокислотах\n",
    "    ref_atoms = []\n",
    "    alt_atoms = []\n",
    "    #for (ref_chain, alt_chain) in zip(ref_model, alt_model) :\n",
    "    #    print(alt_chain)\n",
    "    #print(alt_model)\n",
    "    #print(ref_model)\n",
    "    for (ref_chain, alt_chain) in zip(ref_model, alt_model) :\n",
    "        #for ref_res, alt_res, amino, allow in zip(ref_chain, alt_chain, seq_str, use) :\n",
    "        for ref_res, alt_res in zip(ref_chain, alt_chain) :\n",
    "            #Проверяем что это амин. одноо типа\n",
    "            assert ref_res.resname == alt_res.resname\n",
    "            #Проверяем, что они так же совпадают по месту в цепи \n",
    "            assert ref_res.id      == alt_res.id\n",
    "            #Сверяем с шаблоном\n",
    "            #assert amino == Bio.PDB.Polypeptide.three_to_one(ref_res.resname)\n",
    "            #И, дополнительно, проверяем что мы хотим его сравнить. Последние 2 наверное в дроп пойдут.\n",
    "            #if allow :\n",
    "                #CA = alpha carbon\n",
    "                #Добавляем координаты альфа-углерода у каждой из структур в список\n",
    "            ref_atoms.append(ref_res['CA'].get_coord())\n",
    "            alt_atoms.append(alt_res['CA'].get_coord())\n",
    "                \n",
    "    #Теперь выравниваем эти листы:\n",
    "    #Инициализируем суперимпозер\n",
    "    sup = Bio.SVDSuperimposer.SVDSuperimposer()\n",
    "    #Листы превращаем в массивы\n",
    "    ref_atoms = np.asarray(ref_atoms)\n",
    "    alt_atoms = np.asarray(alt_atoms)\n",
    "    #Инициализируем наш суперимпозер двумя наборами данных\n",
    "    sup.set(ref_atoms, alt_atoms)\n",
    "\n",
    "    #Какую пару сравниваем\n",
    "    print (\"model 1/model %i\" % (alt_model.id+1))\n",
    "    #RMSD для этой пары до сравнивания\n",
    "    print (\"RMS(bef) = %0.2f\" % (sup._rms(ref_atoms, alt_atoms)))\n",
    "    #Собственно выравниваем. При этом появляется матрица поворота и вектор сдвига - их можно применить ко всем атомам\n",
    "    #второй структуры (хотя нам это особо не нужно)\n",
    "    sup.run()\n",
    "\n",
    "    #Выводим RMSD этой пары после выравнивания\n",
    "    print (\"RMS(aft) = %0.2f\" % (sup.get_rms()))\n",
    "    #Выводим матрицу поворота и вектор сдвига\n",
    "    print (sup.get_rotran()[0], sup.get_rotran()[1])\n",
    "    \n",
    "    #Собственно преобразовываем координаты. Вроде это делается так, но так как данных много, \n",
    "    #то вообще говоря надо проверить. В иделае - визуализацией\n",
    "    for res_atom in alt_model.get_atoms():\n",
    "        res_atom.transform(sup.get_rotran()[0],sup.get_rotran()[1])\n",
    "    \n",
    "    #structure[alt_model] = alt_model"
   ]
  },
  {
   "cell_type": "code",
   "execution_count": 34,
   "metadata": {
    "collapsed": true
   },
   "outputs": [],
   "source": [
    "#Выведем RMSD по всем парам после выравнивания\n",
    "RMSD_end = 0.0;\n",
    "for ref_model in structure :\n",
    "    for alt_model in structure :\n",
    "        ref_atoms = []\n",
    "        alt_atoms = []\n",
    "        for (ref_chain, alt_chain) in zip(ref_model, alt_model) :\n",
    "            for ref_res, alt_res in zip(ref_chain, alt_chain) :\n",
    "                assert ref_res.resname == alt_res.resname\n",
    "                assert ref_res.id      == alt_res.id\n",
    "                ref_atoms.append(ref_res['CA'].get_coord())\n",
    "                alt_atoms.append(alt_res['CA'].get_coord())\n",
    "        sup = Bio.SVDSuperimposer.SVDSuperimposer()\n",
    "        ref_atoms = np.asarray(ref_atoms)\n",
    "        alt_atoms = np.asarray(alt_atoms)\n",
    "        #sup.set(ref_atoms, alt_atoms)\n",
    "        RMSD_end += sup._rms(ref_atoms, alt_atoms)"
   ]
  },
  {
   "cell_type": "code",
   "execution_count": 35,
   "metadata": {
    "collapsed": false
   },
   "outputs": [
    {
     "name": "stdout",
     "output_type": "stream",
     "text": [
      "17242.3871893\n",
      "1324.28253158\n"
     ]
    }
   ],
   "source": [
    "#Выводим RMSD до и после выравнивания (попарного)\n",
    "print(RMSD_start)\n",
    "print(RMSD_end)"
   ]
  },
  {
   "cell_type": "code",
   "execution_count": 17,
   "metadata": {
    "collapsed": true
   },
   "outputs": [],
   "source": [
    "#Вывод преобразованных структур в новый файл в том же формате (только вот шапки чет нет, откуда ее брать я не знаю)\n",
    "io=Bio.PDB.PDBIO()\n",
    "io.set_structure(structure)\n",
    "io.save(pdb_out_filename)"
   ]
  },
  {
   "cell_type": "code",
   "execution_count": 18,
   "metadata": {
    "collapsed": false
   },
   "outputs": [
    {
     "ename": "IndentationError",
     "evalue": "unexpected indent (<ipython-input-18-27390619035d>, line 2)",
     "output_type": "error",
     "traceback": [
      "\u001b[0;36m  File \u001b[0;32m\"<ipython-input-18-27390619035d>\"\u001b[0;36m, line \u001b[0;32m2\u001b[0m\n\u001b[0;31m    '''\u001b[0m\n\u001b[0m    ^\u001b[0m\n\u001b[0;31mIndentationError\u001b[0m\u001b[0;31m:\u001b[0m unexpected indent\n"
     ]
    }
   ],
   "source": [
    "\n",
    "    '''\n",
    "    if ref_model.id == alt_model.id :\n",
    "        #Check for self/self get zero RMS, zero translation\n",
    "        #and identity matrix for the rotation.\n",
    "        #assert numpy.abs(super_imposer.rms) < 0.0000001\n",
    "        #assert numpy.max(numpy.abs(super_imposer.rotran[1])) < 0.000001\n",
    "        #assert numpy.max(numpy.abs(super_imposer.rotran[0]) - numpy.identity(3)) < 0.000001\n",
    "        assert numpy.abs(sup._rms(ref_atoms, alt_atoms)) < 0.0000001\n",
    "        assert numpy.max(numpy.abs(sup.get_rotran()[1])) < 0.000001\n",
    "        assert numpy.max(numpy.abs(sup.get_rotran()[0]) - numpy.identity(3)) < 0.000001\n",
    "    else :\n",
    "        #Update the structure by moving all the atoms in\n",
    "        #this model (not just the ones used for the alignment)\n",
    "        #super_imposer.apply(alt_model.get_atoms())\n",
    "    '''"
   ]
  }
 ],
 "metadata": {
  "kernelspec": {
   "display_name": "Python 3",
   "language": "python",
   "name": "python3"
  },
  "language_info": {
   "codemirror_mode": {
    "name": "ipython",
    "version": 3
   },
   "file_extension": ".py",
   "mimetype": "text/x-python",
   "name": "python",
   "nbconvert_exporter": "python",
   "pygments_lexer": "ipython3",
   "version": "3.6.0"
  }
 },
 "nbformat": 4,
 "nbformat_minor": 2
}
